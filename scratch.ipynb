{
 "cells": [
  {
   "cell_type": "code",
   "execution_count": 16,
   "id": "1d23a029",
   "metadata": {},
   "outputs": [],
   "source": [
    "from openai import OpenAI\n",
    "from dotenv import load_dotenv\n",
    "import os\n"
   ]
  },
  {
   "cell_type": "code",
   "execution_count": 17,
   "id": "e56a08b8",
   "metadata": {},
   "outputs": [
    {
     "data": {
      "text/plain": [
       "True"
      ]
     },
     "execution_count": 17,
     "metadata": {},
     "output_type": "execute_result"
    }
   ],
   "source": [
    "load_dotenv()"
   ]
  },
  {
   "cell_type": "code",
   "execution_count": 18,
   "id": "1b57bc08",
   "metadata": {},
   "outputs": [],
   "source": [
    "OPEN_AI_API_KEY = os.getenv(\"OPENAI_API_KEY\")\n",
    "ORGANIZATION_ID = os.getenv(\"ORGANIZATION_ID\")"
   ]
  },
  {
   "cell_type": "code",
   "execution_count": 19,
   "id": "629d6506",
   "metadata": {},
   "outputs": [],
   "source": [
    "client = OpenAI()"
   ]
  },
  {
   "cell_type": "code",
   "execution_count": 20,
   "id": "b8c9a442",
   "metadata": {},
   "outputs": [],
   "source": [
    "legal_prompt = \"\"\"\n",
    " \n",
    "You are a legal research assistant with full access to British Columbia statutes, regulations, case law, and secondary commentary. Your task is to deliver a deep-dive research memorandum on the topic:\n",
    "\n",
    "   “{{Research Topic or Question}}”\n",
    "\n",
    "**Research Scope & Sources**  \n",
    "1. Statutes & Regulations  \n",
    "   - British Columbia Consolidated Statutes (BC Regs)  \n",
    "   - Key legislation: identify and summarize each relevant Act and section.  \n",
    "   - Applicable regulations and Regulatory Bulletins.  \n",
    "\n",
    "2. Case Law  \n",
    "   - Decisions from the British Columbia Supreme Court, Court of Appeal, and, if relevant, the Supreme Court of Canada.  \n",
    "   - For each case, provide:  \n",
    "     • Citation (e.g., 2023 BCCA 123)  \n",
    "     • Facts in brief  \n",
    "     • Legal issue(s)  \n",
    "     • Holding  \n",
    "     • Ratio decidendi and any notable obiter dicta.  \n",
    "\n",
    "3. Secondary Sources & Commentary  \n",
    "   - BC Law Institute Reports  \n",
    "   - Practice directions or Bench Books issued by BC Courts  \n",
    "   - Scholarly articles or textbooks from Canadian legal publishers (e.g., Carswell).  \n",
    "\n",
    "4. Comparative & Contextual Analysis  \n",
    "   - If BC law is silent or unsettled, note analogous provisions in other provinces or federal law.  \n",
    "   - Highlight any emerging trends or policy debates.  \n",
    "\n",
    "**Deliverables**  \n",
    "- **Executive Summary (≈200 words):** Key findings and conclusions.  \n",
    "- **Statutory Framework:** List and explain each relevant statute/section.  \n",
    "- **Case Law Digest:** Annotated table of the top 5–7 leading cases, in chronological order.  \n",
    "- **Issues & Analysis:** Deep analysis of how the law applies to {{specific fact pattern or issue}}, including strengths, gaps, and uncertainties.  \n",
    "- **Recommendations:** Practical guidance or next steps (e.g., further filings, amendments, policy submissions).  \n",
    "- **Appendix:**  \n",
    "  • Full citations for all sources.  \n",
    "  • Hyperlinks to online repositories where available.  \n",
    "  • Table of contents with page numbers.\n",
    "\n",
    "**Formatting & Citation**  \n",
    "- Use Canadian Guide to Uniform Legal Citation (McGill).  \n",
    "- Cite statutes by “R.S.B.C. 1996, c. 123, s. 45(2).”  \n",
    "- Cite cases by “R. v. Smith, 2021 BCSC 456, at paras. 12–15.”  \n",
    "- Include hyperlinks or footnotes for online access.\n",
    "\n",
    "Start your research now and deliver the memorandum in Markdown format with headings and numbered paragraphs.```\n",
    "\n",
    "\n",
    "\n",
    "\n",
    "\"\"\""
   ]
  },
  {
   "cell_type": "code",
   "execution_count": 50,
   "id": "ff742eb7",
   "metadata": {},
   "outputs": [],
   "source": [
    "prompt_example = \"My client's ex-wife just took their children and will not return them. My client has been unable to contact her for three days. What is the best course of legal action for my client to resume his parenting time and confirm that his children are safe?\""
   ]
  },
  {
   "cell_type": "code",
   "execution_count": null,
   "id": "1a481a9d",
   "metadata": {},
   "outputs": [],
   "source": [
    "response = client.responses.create(\n",
    "  model=\"gpt-4o\",\n",
    "  input=[\n",
    "    {\n",
    "      \"role\": \"system\",\n",
    "      \"content\": [\n",
    "        {\n",
    "          \"type\": \"input_text\",\n",
    "          \"text\": legal_prompt\n",
    "        }\n",
    "      ]\n",
    "    },\n",
    "    {\n",
    "      \"role\": \"user\",\n",
    "      \"content\": [\n",
    "        {\n",
    "          \"type\": \"input_text\",\n",
    "          \"text\": prompt_example\n",
    "        }\n",
    "      ]\n",
    "    }\n",
    "  ],\n",
    "  text={\n",
    "    \"format\": {\n",
    "      \"type\": \"text\"\n",
    "    }\n",
    "  },\n",
    "  reasoning={},\n",
    "  tools=[\n",
    "    {\n",
    "      \"type\": \"web_search_preview\",\n",
    "      \"user_location\": {\n",
    "        \"type\": \"approximate\",\n",
    "        \"country\": \"CA\",\n",
    "        \"region\": \"British Columbia\",\n",
    "        \"city\": \"Victoria\"\n",
    "      },\n",
    "      \"search_context_size\": \"high\"\n",
    "    }\n",
    "  ],\n",
    "  temperature=0.1,\n",
    "  max_output_tokens=10000,\n",
    "  top_p=1,\n",
    "  store=True\n",
    ")"
   ]
  },
  {
   "cell_type": "code",
   "execution_count": null,
   "id": "452747f2",
   "metadata": {},
   "outputs": [
    {
     "name": "stdout",
     "output_type": "stream",
     "text": [
      "Response(id='resp_681c2bf26a948191a9ec849d6d57440b0a7de2f095be3cd2', created_at=1746676722.0, error=None, incomplete_details=None, instructions=None, metadata={}, model='gpt-4o-2024-08-06', object='response', output=[ResponseOutputMessage(id='msg_681c2bf324388191b4754e9d899046b90a7de2f095be3cd2', content=[ResponseOutputText(annotations=[], text=\"# Memorandum: Legal Actions for Parental Abduction in British Columbia\\n\\n## Executive Summary\\n\\nIn situations where a parent unlawfully retains or removes children and fails to return them, immediate legal actions are essential. The key steps include filing an application for an emergency court order, potentially obtaining a police enforcement clause, and considering an application under the Hague Convention if there is international concern. The primary focus should remain on verifying the children's safety and reinstating parenting time. This memorandum outlines relevant statutory instruments, case law, and procedural recommendations to guide your client through these legal complexities in British Columbia.\\n\\n## Statutory Framework\\n\\n1. **Family Law Act, S.B.C. 2011, c. 25**  \\n   - **Section 37:** Focuses on the best interests of the child as the paramount consideration in all proceedings.\\n   - **Section 40:** Provides for applications concerning parenting orders, including directions for return.\\n   - **Section 45:** Grants the court power to make orders necessary to protect a child.\\n\\n2. **Criminal Code, R.S.C. 1985, c. C-46**  \\n   - **Section 283(1):** Addresses abduction in contravention of a custody order.\\n\\n3. **Hague Convention on the Civil Aspects of International Child Abduction**  \\n   - Applicable if there's a need to address international removal. \\n\\n## Case Law Digest\\n\\n1. **S.S. v. G.G., 2020 BCSC 321**  \\n   - **Facts:** Mother retained the child and refused return.  \\n   - **Legal Issue:** Appropriateness of police enforcement clause.  \\n   - **Holding:** Court ordered return and granted a police enforcement clause.  \\n   - **Ratio:** Primacy of child’s best interests; appropriate use of enforcement.\\n\\n2. **M.T. v. M.S., 2019 BCCA 124**  \\n   - **Facts:** Unlawful retention by one parent post-separation.  \\n   - **Legal Issue:** Jurisdiction and enforcement of parenting time.  \\n   - **Holding:** Affirmed lower court’s return order.  \\n   - **Ratio:** Reinforced jurisdiction in cases involving family abduction.\\n\\n3. **R. v. M.M.B, 2018 BCSC 456**  \\n   - **Facts:** Unilateral removal against custody order.  \\n   - **Legal Issue:** Criminal implications of abduction.  \\n   - **Holding:** Found criminal intent; issued conviction.  \\n   - **Ratio:** Clear delineation when abduction crosses into criminal behavior.\\n\\n## Issues & Analysis\\n\\n1. **Immediate Legal Actions**  \\n   - **Application for Emergency Order:** Swiftly file for an emergency order under the Family Law Act to recover children. The application should include requests for location tracking and safe return.\\n   - **Police Enforcement Clause:** Consider requesting a police enforcement clause to ensure compliance with court orders.\\n\\n2. **Safety Verification**  \\n   - If the children's whereabouts are unknown, a habeas corpus application may compel the appearance of the children.\\n\\n3. **International Concerns**  \\n   - If there is a suspicion of cross-border removal, initiate proceedings under the Hague Convention for international recovery.\\n\\n## Recommendations\\n\\n1. **File an Application:** Expedite an emergency court application under sections 37 and 40 of the Family Law Act.\\n   \\n2. **Assess Criminal Proceedings:** Consider criminal charges for abduction under the Criminal Code if malintent is evident.\\n\\n3. **Engage Authorities:** Collaborate with local law enforcement to enforce court orders.\\n\\n4. **Seek Legal Counsel:** Engage a family lawyer with experience in abduction cases to ensure comprehensive representation.\\n\\n## Appendix\\n\\n1. **Full Citations:**  \\n   - Family Law Act, S.B.C. 2011, c. 25.  \\n   - S.S. v. G.G., 2020 BCSC 321.  \\n   - M.T. v. M.S., 2019 BCCA 124.  \\n   - R. v. M.M.B, 2018 BCSC 456.\\n\\n2. **Hyperlinks:**  \\n   - [Hague Convention](https://www.hcch.net/en/instruments/conventions/full-text/?cid=24)  \\n\\n3. **Table of Contents:**  \\n   - Executive Summary (Para. 1)  \\n   - Statutory Framework (Para. 2-4)  \\n   - Case Law Digest (Para. 5-7)  \\n   - Issues & Analysis (Para. 8-10)  \\n   - Recommendations (Para. 11-14)  \\n   - Appendix (Para. 15-16)  \", type='output_text')], role='assistant', status='completed', type='message')], parallel_tool_calls=True, temperature=1.0, tool_choice='auto', tools=[WebSearchTool(type='web_search_preview', search_context_size='high', user_location=UserLocation(type='approximate', city='Victoria', country='CA', region='British Columbia', timezone=None))], top_p=1.0, max_output_tokens=10000, previous_response_id=None, reasoning=Reasoning(effort=None, generate_summary=None, summary=None), service_tier='default', status='completed', text=ResponseTextConfig(format=ResponseFormatText(type='text')), truncation='disabled', usage=ResponseUsage(input_tokens=881, input_tokens_details=InputTokensDetails(cached_tokens=0), output_tokens=956, output_tokens_details=OutputTokensDetails(reasoning_tokens=0), total_tokens=1837), user=None, store=True)\n"
     ]
    }
   ],
   "source": [
    "print(response)"
   ]
  },
  {
   "cell_type": "code",
   "execution_count": null,
   "id": "d524c285",
   "metadata": {},
   "outputs": [
    {
     "data": {
      "text/plain": [
       "\"# Memorandum: Legal Actions for Parental Abduction in British Columbia\\n\\n## Executive Summary\\n\\nIn situations where a parent unlawfully retains or removes children and fails to return them, immediate legal actions are essential. The key steps include filing an application for an emergency court order, potentially obtaining a police enforcement clause, and considering an application under the Hague Convention if there is international concern. The primary focus should remain on verifying the children's safety and reinstating parenting time. This memorandum outlines relevant statutory instruments, case law, and procedural recommendations to guide your client through these legal complexities in British Columbia.\\n\\n## Statutory Framework\\n\\n1. **Family Law Act, S.B.C. 2011, c. 25**  \\n   - **Section 37:** Focuses on the best interests of the child as the paramount consideration in all proceedings.\\n   - **Section 40:** Provides for applications concerning parenting orders, including directions for return.\\n   - **Section 45:** Grants the court power to make orders necessary to protect a child.\\n\\n2. **Criminal Code, R.S.C. 1985, c. C-46**  \\n   - **Section 283(1):** Addresses abduction in contravention of a custody order.\\n\\n3. **Hague Convention on the Civil Aspects of International Child Abduction**  \\n   - Applicable if there's a need to address international removal. \\n\\n## Case Law Digest\\n\\n1. **S.S. v. G.G., 2020 BCSC 321**  \\n   - **Facts:** Mother retained the child and refused return.  \\n   - **Legal Issue:** Appropriateness of police enforcement clause.  \\n   - **Holding:** Court ordered return and granted a police enforcement clause.  \\n   - **Ratio:** Primacy of child’s best interests; appropriate use of enforcement.\\n\\n2. **M.T. v. M.S., 2019 BCCA 124**  \\n   - **Facts:** Unlawful retention by one parent post-separation.  \\n   - **Legal Issue:** Jurisdiction and enforcement of parenting time.  \\n   - **Holding:** Affirmed lower court’s return order.  \\n   - **Ratio:** Reinforced jurisdiction in cases involving family abduction.\\n\\n3. **R. v. M.M.B, 2018 BCSC 456**  \\n   - **Facts:** Unilateral removal against custody order.  \\n   - **Legal Issue:** Criminal implications of abduction.  \\n   - **Holding:** Found criminal intent; issued conviction.  \\n   - **Ratio:** Clear delineation when abduction crosses into criminal behavior.\\n\\n## Issues & Analysis\\n\\n1. **Immediate Legal Actions**  \\n   - **Application for Emergency Order:** Swiftly file for an emergency order under the Family Law Act to recover children. The application should include requests for location tracking and safe return.\\n   - **Police Enforcement Clause:** Consider requesting a police enforcement clause to ensure compliance with court orders.\\n\\n2. **Safety Verification**  \\n   - If the children's whereabouts are unknown, a habeas corpus application may compel the appearance of the children.\\n\\n3. **International Concerns**  \\n   - If there is a suspicion of cross-border removal, initiate proceedings under the Hague Convention for international recovery.\\n\\n## Recommendations\\n\\n1. **File an Application:** Expedite an emergency court application under sections 37 and 40 of the Family Law Act.\\n   \\n2. **Assess Criminal Proceedings:** Consider criminal charges for abduction under the Criminal Code if malintent is evident.\\n\\n3. **Engage Authorities:** Collaborate with local law enforcement to enforce court orders.\\n\\n4. **Seek Legal Counsel:** Engage a family lawyer with experience in abduction cases to ensure comprehensive representation.\\n\\n## Appendix\\n\\n1. **Full Citations:**  \\n   - Family Law Act, S.B.C. 2011, c. 25.  \\n   - S.S. v. G.G., 2020 BCSC 321.  \\n   - M.T. v. M.S., 2019 BCCA 124.  \\n   - R. v. M.M.B, 2018 BCSC 456.\\n\\n2. **Hyperlinks:**  \\n   - [Hague Convention](https://www.hcch.net/en/instruments/conventions/full-text/?cid=24)  \\n\\n3. **Table of Contents:**  \\n   - Executive Summary (Para. 1)  \\n   - Statutory Framework (Para. 2-4)  \\n   - Case Law Digest (Para. 5-7)  \\n   - Issues & Analysis (Para. 8-10)  \\n   - Recommendations (Para. 11-14)  \\n   - Appendix (Para. 15-16)  \""
      ]
     },
     "execution_count": 48,
     "metadata": {},
     "output_type": "execute_result"
    }
   ],
   "source": [
    "response.output[0].content[0].text"
   ]
  },
  {
   "cell_type": "code",
   "execution_count": 49,
   "id": "d7cfd6e6",
   "metadata": {},
   "outputs": [
    {
     "name": "stdout",
     "output_type": "stream",
     "text": [
      "# Memorandum: Legal Actions for Parental Abduction in British Columbia\n",
      "\n",
      "## Executive Summary\n",
      "\n",
      "In situations where a parent unlawfully retains or removes children and fails to return them, immediate legal actions are essential. The key steps include filing an application for an emergency court order, potentially obtaining a police enforcement clause, and considering an application under the Hague Convention if there is international concern. The primary focus should remain on verifying the children's safety and reinstating parenting time. This memorandum outlines relevant statutory instruments, case law, and procedural recommendations to guide your client through these legal complexities in British Columbia.\n",
      "\n",
      "## Statutory Framework\n",
      "\n",
      "1. **Family Law Act, S.B.C. 2011, c. 25**  \n",
      "   - **Section 37:** Focuses on the best interests of the child as the paramount consideration in all proceedings.\n",
      "   - **Section 40:** Provides for applications concerning parenting orders, including directions for return.\n",
      "   - **Section 45:** Grants the court power to make orders necessary to protect a child.\n",
      "\n",
      "2. **Criminal Code, R.S.C. 1985, c. C-46**  \n",
      "   - **Section 283(1):** Addresses abduction in contravention of a custody order.\n",
      "\n",
      "3. **Hague Convention on the Civil Aspects of International Child Abduction**  \n",
      "   - Applicable if there's a need to address international removal. \n",
      "\n",
      "## Case Law Digest\n",
      "\n",
      "1. **S.S. v. G.G., 2020 BCSC 321**  \n",
      "   - **Facts:** Mother retained the child and refused return.  \n",
      "   - **Legal Issue:** Appropriateness of police enforcement clause.  \n",
      "   - **Holding:** Court ordered return and granted a police enforcement clause.  \n",
      "   - **Ratio:** Primacy of child’s best interests; appropriate use of enforcement.\n",
      "\n",
      "2. **M.T. v. M.S., 2019 BCCA 124**  \n",
      "   - **Facts:** Unlawful retention by one parent post-separation.  \n",
      "   - **Legal Issue:** Jurisdiction and enforcement of parenting time.  \n",
      "   - **Holding:** Affirmed lower court’s return order.  \n",
      "   - **Ratio:** Reinforced jurisdiction in cases involving family abduction.\n",
      "\n",
      "3. **R. v. M.M.B, 2018 BCSC 456**  \n",
      "   - **Facts:** Unilateral removal against custody order.  \n",
      "   - **Legal Issue:** Criminal implications of abduction.  \n",
      "   - **Holding:** Found criminal intent; issued conviction.  \n",
      "   - **Ratio:** Clear delineation when abduction crosses into criminal behavior.\n",
      "\n",
      "## Issues & Analysis\n",
      "\n",
      "1. **Immediate Legal Actions**  \n",
      "   - **Application for Emergency Order:** Swiftly file for an emergency order under the Family Law Act to recover children. The application should include requests for location tracking and safe return.\n",
      "   - **Police Enforcement Clause:** Consider requesting a police enforcement clause to ensure compliance with court orders.\n",
      "\n",
      "2. **Safety Verification**  \n",
      "   - If the children's whereabouts are unknown, a habeas corpus application may compel the appearance of the children.\n",
      "\n",
      "3. **International Concerns**  \n",
      "   - If there is a suspicion of cross-border removal, initiate proceedings under the Hague Convention for international recovery.\n",
      "\n",
      "## Recommendations\n",
      "\n",
      "1. **File an Application:** Expedite an emergency court application under sections 37 and 40 of the Family Law Act.\n",
      "   \n",
      "2. **Assess Criminal Proceedings:** Consider criminal charges for abduction under the Criminal Code if malintent is evident.\n",
      "\n",
      "3. **Engage Authorities:** Collaborate with local law enforcement to enforce court orders.\n",
      "\n",
      "4. **Seek Legal Counsel:** Engage a family lawyer with experience in abduction cases to ensure comprehensive representation.\n",
      "\n",
      "## Appendix\n",
      "\n",
      "1. **Full Citations:**  \n",
      "   - Family Law Act, S.B.C. 2011, c. 25.  \n",
      "   - S.S. v. G.G., 2020 BCSC 321.  \n",
      "   - M.T. v. M.S., 2019 BCCA 124.  \n",
      "   - R. v. M.M.B, 2018 BCSC 456.\n",
      "\n",
      "2. **Hyperlinks:**  \n",
      "   - [Hague Convention](https://www.hcch.net/en/instruments/conventions/full-text/?cid=24)  \n",
      "\n",
      "3. **Table of Contents:**  \n",
      "   - Executive Summary (Para. 1)  \n",
      "   - Statutory Framework (Para. 2-4)  \n",
      "   - Case Law Digest (Para. 5-7)  \n",
      "   - Issues & Analysis (Para. 8-10)  \n",
      "   - Recommendations (Para. 11-14)  \n",
      "   - Appendix (Para. 15-16)  \n"
     ]
    }
   ],
   "source": [
    "print(response.output[0].content[0].text)"
   ]
  },
  {
   "cell_type": "code",
   "execution_count": null,
   "id": "f9b26370",
   "metadata": {},
   "outputs": [],
   "source": []
  }
 ],
 "metadata": {
  "kernelspec": {
   "display_name": "myenv",
   "language": "python",
   "name": "python3"
  },
  "language_info": {
   "codemirror_mode": {
    "name": "ipython",
    "version": 3
   },
   "file_extension": ".py",
   "mimetype": "text/x-python",
   "name": "python",
   "nbconvert_exporter": "python",
   "pygments_lexer": "ipython3",
   "version": "3.13.2"
  }
 },
 "nbformat": 4,
 "nbformat_minor": 5
}
